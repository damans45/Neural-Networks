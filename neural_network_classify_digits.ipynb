{
 "cells": [
  {
   "cell_type": "code",
   "execution_count": 2,
   "metadata": {},
   "outputs": [],
   "source": [
    "# import libraries\n",
    "import pandas as pd\n",
    "import numpy as np"
   ]
  },
  {
   "cell_type": "code",
   "execution_count": 3,
   "metadata": {},
   "outputs": [],
   "source": [
    "from sklearn.datasets import fetch_openml\n",
    "mnist = fetch_openml('mnist_784')"
   ]
  },
  {
   "cell_type": "code",
   "execution_count": 4,
   "metadata": {},
   "outputs": [],
   "source": [
    "X, y = mnist['data'], mnist['target']"
   ]
  },
  {
   "cell_type": "code",
   "execution_count": 38,
   "metadata": {},
   "outputs": [
    {
     "name": "stdout",
     "output_type": "stream",
     "text": [
      "(784, 60000)\n",
      "(70000, 1)\n",
      "(1, 70000)\n",
      "[['5' '0' '4' ... '4' '5' '6']]\n"
     ]
    }
   ],
   "source": [
    "print(X.shape)\n",
    "print(y.T.shape)\n",
    "print(y.shape)\n",
    "print(y)"
   ]
  },
  {
   "cell_type": "code",
   "execution_count": 6,
   "metadata": {},
   "outputs": [
    {
     "name": "stdout",
     "output_type": "stream",
     "text": [
      "(70000, 784)\n",
      "(70000,)\n",
      "<class 'str'>\n"
     ]
    }
   ],
   "source": [
    "# shape\n",
    "print(X.shape)\n",
    "print(y.shape)\n",
    "\n",
    "# Normalize\n",
    "X = X/255\n",
    "print(type(y[1]))\n"
   ]
  },
  {
   "cell_type": "code",
   "execution_count": 7,
   "metadata": {},
   "outputs": [],
   "source": [
    "#  we’re just building a zero-classifier for now. So we want our labels to say 1 when we have a zero, and 0 otherwise\n",
    "\n",
    "y_new = np.zeros((y.shape[0],1))\n",
    "y_new[y == '0'] = 1\n",
    "y_new[y != '0'] = 0\n",
    "y_new.shape\n",
    "y = y_new"
   ]
  },
  {
   "cell_type": "code",
   "execution_count": null,
   "metadata": {},
   "outputs": [],
   "source": []
  },
  {
   "cell_type": "code",
   "execution_count": 8,
   "metadata": {},
   "outputs": [],
   "source": [
    "# Transform data --> each example in a column instead of a row\n",
    "\n",
    "m = 60000\n",
    "m_test = X.shape[0] - m\n",
    "\n",
    "X_train, X_test = X[:m].T, X[m:,].T\n",
    "y_train, y_test = y[:m].reshape(1, m), y[m:].reshape(1,m_test)\n"
   ]
  },
  {
   "cell_type": "code",
   "execution_count": 9,
   "metadata": {},
   "outputs": [
    {
     "name": "stdout",
     "output_type": "stream",
     "text": [
      "(784, 60000)\n",
      "(784, 10000)\n",
      "(1, 60000)\n",
      "(1, 10000)\n"
     ]
    }
   ],
   "source": [
    "print(X_train.shape) # One example in each column\n",
    "print(X_test.shape)\n",
    "print(y_train.shape)\n",
    "print(y_test.shape)"
   ]
  },
  {
   "cell_type": "code",
   "execution_count": 10,
   "metadata": {},
   "outputs": [],
   "source": [
    "# Shuffle the training set\n",
    "np.random.seed(138)\n",
    "shuffle_index = np.random.permutation(m)\n",
    "X_train, y_train = X_train[:,shuffle_index], y_train[:,shuffle_index]"
   ]
  },
  {
   "cell_type": "code",
   "execution_count": 11,
   "metadata": {},
   "outputs": [
    {
     "data": {
      "text/plain": [
       "(784,)"
      ]
     },
     "execution_count": 11,
     "metadata": {},
     "output_type": "execute_result"
    }
   ],
   "source": [
    "X_train[:,3].shape"
   ]
  },
  {
   "cell_type": "code",
   "execution_count": 12,
   "metadata": {},
   "outputs": [
    {
     "name": "stdout",
     "output_type": "stream",
     "text": [
      "[1.]\n"
     ]
    },
    {
     "data": {
      "image/png": "[encoded data removed]",
      "text/plain": [
       "<Figure size 432x288 with 1 Axes>"
      ]
     },
     "metadata": {
      "needs_background": "light"
     },
     "output_type": "display_data"
    }
   ],
   "source": [
    "# Random image\n",
    "%matplotlib inline\n",
    "import matplotlib\n",
    "import matplotlib.pyplot as plt\n",
    "\n",
    "i = 40\n",
    "plt.imshow(X_train[:,i].reshape(28,28), cmap = matplotlib.cm.binary)\n",
    "print(y_train[:,i])\n",
    "\n",
    "# label is 0, because we are just training a binary classifier"
   ]
  },
  {
   "cell_type": "markdown",
   "metadata": {},
   "source": [
    "## A Single Neuron ( Logistic Regression) - Binary Classification"
   ]
  },
  {
   "cell_type": "code",
   "execution_count": 13,
   "metadata": {},
   "outputs": [],
   "source": [
    "# Sigmoid\n",
    "\n",
    "def sigmoid(z):\n",
    "    s = 1 / (1 + np.exp(-z))\n",
    "    return s\n",
    "def compute_loss(Y,Y_hat):\n",
    "    m = Y.shape[1]\n",
    "    L = -(1 / m) * np.sum ( (Y * np.log(Y_hat)) + ((1 - Y) * np.log(1 - Y_hat))  )\n",
    "    return L"
   ]
  },
  {
   "cell_type": "code",
   "execution_count": 14,
   "metadata": {},
   "outputs": [
    {
     "name": "stdout",
     "output_type": "stream",
     "text": [
      "Iteration :  0 cost :  0.6840801595436431\n",
      "Iteration :  100 cost :  0.10781549403603288\n",
      "Iteration :  200 cost :  0.08245533921989824\n",
      "Iteration :  300 cost :  0.07142765065115936\n",
      "Iteration :  400 cost :  0.06485584350261014\n",
      "Iteration :  500 cost :  0.06036454927983813\n",
      "Iteration :  600 cost :  0.05704607944076546\n",
      "Iteration :  700 cost :  0.0544660009146988\n",
      "Iteration :  800 cost :  0.05238622282817923\n",
      "Iteration :  900 cost :  0.05066378415961421\n",
      "Iteration :  1000 cost :  0.04920697012059556\n",
      "Iteration :  1100 cost :  0.04795389640787956\n",
      "Iteration :  1200 cost :  0.04686110603804828\n",
      "Iteration :  1300 cost :  0.04589707543148204\n",
      "Iteration :  1400 cost :  0.04503831260139265\n",
      "Final cost -  0.04427423766197228\n"
     ]
    }
   ],
   "source": [
    "learning_rate = 0.05\n",
    "\n",
    "X = X_train\n",
    "Y = y_train\n",
    "\n",
    "n_x = X.shape[0]\n",
    "m = X.shape[1]\n",
    "\n",
    "W = np.random.randn(n_x, 1) * 0.01\n",
    "b = np.zeros((1, 1))\n",
    "\n",
    "for i in range(1500):\n",
    "    Z = np.dot(W.T, X) + b\n",
    "    A = sigmoid(Z)\n",
    "    \n",
    "    cost = compute_loss(Y, A)\n",
    "    \n",
    "    dW = (1 / m) * np.dot(X, (A - Y).T)\n",
    "    db = (1 / m) * np.sum(A -Y, axis =1 , keepdims = True)\n",
    "    \n",
    "    W = W - (learning_rate * dW)\n",
    "    b = b - (learning_rate * db)\n",
    "    \n",
    "    if (i % 100 ==0):\n",
    "        print (\"Iteration : \", i, \"cost : \", cost)\n",
    "print (\"Final cost - \", cost)"
   ]
  },
  {
   "cell_type": "code",
   "execution_count": null,
   "metadata": {},
   "outputs": [],
   "source": []
  },
  {
   "cell_type": "code",
   "execution_count": 16,
   "metadata": {},
   "outputs": [
    {
     "name": "stdout",
     "output_type": "stream",
     "text": [
      "(1, 10000)\n",
      "(10000,)\n",
      "[[8971   49]\n",
      " [  44  936]]\n"
     ]
    }
   ],
   "source": [
    "from sklearn.metrics import classification_report, confusion_matrix\n",
    "Z = np.matmul(W.T, X_test) + b\n",
    "A = sigmoid(Z)\n",
    "print(Z.shape)\n",
    "#predictions = (A > 0.5)[0,:]\n",
    "#labels = (y_test == 1)[0,:]\n",
    "#print(confusion_matrix(predictions, labels))\n",
    "\n",
    "predictions = (A>.5)[0,:]\n",
    "labels = (y_test == 1)[0,:]\n",
    "print(labels.shape)\n",
    "\n",
    "print(confusion_matrix(labels, predictions))\n",
    "\n",
    "# We got 936 of the zeroes predicted correctly and missed 49."
   ]
  },
  {
   "cell_type": "code",
   "execution_count": 17,
   "metadata": {},
   "outputs": [
    {
     "name": "stdout",
     "output_type": "stream",
     "text": [
      "              precision    recall  f1-score   support\n",
      "\n",
      "       False       0.99      1.00      0.99      9015\n",
      "        True       0.96      0.95      0.95       985\n",
      "\n",
      "   micro avg       0.99      0.99      0.99     10000\n",
      "   macro avg       0.97      0.97      0.97     10000\n",
      "weighted avg       0.99      0.99      0.99     10000\n",
      "\n"
     ]
    }
   ],
   "source": [
    "print (classification_report(predictions, labels))"
   ]
  },
  {
   "cell_type": "markdown",
   "metadata": {},
   "source": [
    "## One Hidden Layer - Binary Classification"
   ]
  },
  {
   "cell_type": "code",
   "execution_count": null,
   "metadata": {},
   "outputs": [],
   "source": [
    "# Add a hidden layer with 64 units"
   ]
  },
  {
   "cell_type": "code",
   "execution_count": 307,
   "metadata": {},
   "outputs": [
    {
     "name": "stdout",
     "output_type": "stream",
     "text": [
      "Epoch 0 cost:  0.6810210349421688\n",
      "Epoch 100 cost:  0.30521416559436304\n",
      "Epoch 200 cost:  0.28392935683610476\n",
      "Epoch 300 cost:  0.2604250112383746\n",
      "Epoch 400 cost:  0.2363434609738409\n",
      "Epoch 500 cost:  0.21342069889010767\n",
      "Epoch 600 cost:  0.1925596377131004\n",
      "Epoch 700 cost:  0.17381216105618738\n",
      "Epoch 800 cost:  0.15670476159176763\n",
      "Epoch 900 cost:  0.14066741304824584\n",
      "Epoch 1000 cost:  0.12573536164273222\n",
      "Epoch 1100 cost:  0.11260831875976236\n",
      "Epoch 1200 cost:  0.10169404645757722\n",
      "Epoch 1300 cost:  0.09284464786253106\n",
      "Epoch 1400 cost:  0.08568247698510707\n",
      "Final cost -  0.07988018005220902\n"
     ]
    }
   ],
   "source": [
    "X = X_train\n",
    "Y = y_train\n",
    "\n",
    "n_x = X.shape[0]\n",
    "n_h = 64\n",
    "learning_rate = 0.05\n",
    "\n",
    "W1 = np.random.randn(n_h, n_x) * 0.01\n",
    "b1 = np.zeros((n_h, 1))\n",
    "W2 = np.random.randn(1, n_h) * 0.01\n",
    "b2 = np.zeros((1,1))\n",
    "\n",
    "for i in range(1500):\n",
    "    Z1 = np.dot(W1, X) + b1\n",
    "    A1 = sigmoid(Z1)\n",
    "    Z2 = np.dot(W2, A1) + b2\n",
    "    A2 = sigmoid(Z2)\n",
    "    \n",
    "    cost = compute_loss(Y, A2)\n",
    "    \n",
    "    dZ2 = A2 - Y\n",
    "    dW2 = (1/m) * np.dot(dZ2, A1.T)\n",
    "    db2 = (1/m) * np.sum(dZ2, axis = 1, keepdims = True)\n",
    "    \n",
    "    dA1 = np.dot(W2.T, dZ2)\n",
    "    dZ1 = dA1 * sigmoid(Z1) * (1 - sigmoid(Z1))\n",
    "    dW1 = (1./m) * np.dot(dZ1, X.T)\n",
    "    db1 = (1./m) * np.sum(dZ1, axis=1, keepdims=True)\n",
    "\n",
    "    W2 = W2 - learning_rate * dW2\n",
    "    b2 = b2 - learning_rate * db2\n",
    "    W1 = W1 - learning_rate * dW1\n",
    "    b1 = b1 - learning_rate * db1\n",
    "\n",
    "    if i % 100 == 0:\n",
    "        print(\"Epoch\", i, \"cost: \", cost) \n",
    "print('Final cost - ', cost)"
   ]
  },
  {
   "cell_type": "code",
   "execution_count": 308,
   "metadata": {},
   "outputs": [
    {
     "name": "stdout",
     "output_type": "stream",
     "text": [
      "[[8982  180]\n",
      " [  38  800]]\n",
      "              precision    recall  f1-score   support\n",
      "\n",
      "       False       1.00      0.98      0.99      9162\n",
      "        True       0.82      0.95      0.88       838\n",
      "\n",
      "   micro avg       0.98      0.98      0.98     10000\n",
      "   macro avg       0.91      0.97      0.93     10000\n",
      "weighted avg       0.98      0.98      0.98     10000\n",
      "\n"
     ]
    }
   ],
   "source": [
    "Z1 = np.matmul(W1, X_test) + b1\n",
    "A1 = sigmoid(Z1)\n",
    "Z2 = np.matmul(W2, A1) + b2\n",
    "A2 = sigmoid(Z2)\n",
    "\n",
    "predictions = (A2>.5)[0,:]\n",
    "labels = (y_test == 1)[0,:]\n",
    "\n",
    "print(confusion_matrix(predictions, labels))\n",
    "print(classification_report(predictions, labels))"
   ]
  },
  {
   "cell_type": "markdown",
   "metadata": {},
   "source": [
    "## Multiclass Classification"
   ]
  },
  {
   "cell_type": "code",
   "execution_count": 33,
   "metadata": {},
   "outputs": [],
   "source": [
    "from sklearn.datasets import fetch_openml\n",
    "mnist = fetch_openml('mnist_784')"
   ]
  },
  {
   "cell_type": "code",
   "execution_count": 46,
   "metadata": {},
   "outputs": [],
   "source": [
    "X, y = mnist['data'], mnist['target']\n",
    "X = X / 255"
   ]
  },
  {
   "cell_type": "code",
   "execution_count": 47,
   "metadata": {},
   "outputs": [
    {
     "data": {
      "text/plain": [
       "(10, 70000)"
      ]
     },
     "execution_count": 47,
     "metadata": {},
     "output_type": "execute_result"
    }
   ],
   "source": [
    "# Reshape Y\n",
    "\n",
    "digits = 10\n",
    "examples = y.shape[0]\n",
    "\n",
    "y = y.reshape(1, examples)\n",
    "\n",
    "Y_new = np.eye(digits)[y.astype('int32')]\n",
    "Y_new = Y_new.T.reshape(digits, examples)\n",
    "Y_new.shape"
   ]
  },
  {
   "cell_type": "code",
   "execution_count": 48,
   "metadata": {},
   "outputs": [],
   "source": [
    "m = 60000\n",
    "m_test = X.shape[0] - m\n",
    "\n",
    "X_train, X_test = X[:m].T, X[m:].T\n",
    "Y_train, Y_test = Y_new[:,:m], Y_new[:,m:]\n",
    "\n",
    "shuffle_index = np.random.permutation(m)\n",
    "X_train, Y_train = X_train[:, shuffle_index], Y_train[:, shuffle_index]"
   ]
  },
  {
   "cell_type": "code",
   "execution_count": 53,
   "metadata": {},
   "outputs": [
    {
     "data": {
      "image/png": "[encoded data removed]",
      "text/plain": [
       "<Figure size 432x288 with 1 Axes>"
      ]
     },
     "metadata": {
      "needs_background": "light"
     },
     "output_type": "display_data"
    },
    {
     "data": {
      "text/plain": [
       "array([0., 0., 0., 1., 0., 0., 0., 0., 0., 0.])"
      ]
     },
     "execution_count": 53,
     "metadata": {},
     "output_type": "execute_result"
    }
   ],
   "source": [
    "i = 32\n",
    "plt.imshow(X_train[:,i].reshape(28,28), cmap = matplotlib.cm.binary)\n",
    "plt.axis(\"off\")\n",
    "plt.show()\n",
    "Y_train[:,i]"
   ]
  },
  {
   "cell_type": "code",
   "execution_count": 54,
   "metadata": {},
   "outputs": [],
   "source": [
    "def compute_multiclass_loss(Y, Y_hat):\n",
    "\n",
    "    L_sum = np.sum(np.multiply(Y, np.log(Y_hat)))\n",
    "    m = Y.shape[1]\n",
    "    L = -(1/m) * L_sum\n",
    "\n",
    "    return L"
   ]
  },
  {
   "cell_type": "code",
   "execution_count": 59,
   "metadata": {},
   "outputs": [
    {
     "name": "stdout",
     "output_type": "stream",
     "text": [
      "Epoch 0 cost:  9.536759414730373\n",
      "Epoch 100 cost:  0.765410456171843\n",
      "Epoch 200 cost:  0.5761323898446676\n",
      "Epoch 300 cost:  0.49415197183743803\n",
      "Epoch 400 cost:  0.4444434638304048\n",
      "Epoch 500 cost:  0.4097798352340085\n",
      "Epoch 600 cost:  0.38365617765918236\n",
      "Epoch 700 cost:  0.36289211326444343\n",
      "Epoch 800 cost:  0.34576709620603585\n",
      "Epoch 900 cost:  0.33125054642150586\n",
      "Epoch 1000 cost:  0.3187123348140507\n",
      "Epoch 1100 cost:  0.30771974318465906\n",
      "Epoch 1200 cost:  0.2979570345443281\n",
      "Epoch 1300 cost:  0.2891883602946375\n",
      "Epoch 1400 cost:  0.28123502916245446\n",
      "Epoch 1500 cost:  0.2739631566770871\n",
      "Epoch 1600 cost:  0.26726864192437266\n",
      "Epoch 1700 cost:  0.26106773700697367\n",
      "Epoch 1800 cost:  0.2552937783265869\n",
      "Epoch 1900 cost:  0.24989381082225504\n",
      "Final cost: 0.2448741623496549\n"
     ]
    }
   ],
   "source": [
    "n_x = X_train.shape[0]\n",
    "n_h = 64\n",
    "learning_rate = 1\n",
    "\n",
    "W1 = np.random.randn(n_h, n_x)\n",
    "b1 = np.zeros((n_h, 1))\n",
    "W2 = np.random.randn(digits, n_h)\n",
    "b2 = np.zeros((digits, 1))\n",
    "\n",
    "X = X_train\n",
    "Y = Y_train\n",
    "\n",
    "for i in range(2000):\n",
    "\n",
    "    Z1 = np.dot(W1,X) + b1\n",
    "    A1 = sigmoid(Z1)\n",
    "    Z2 = np.dot(W2,A1) + b2\n",
    "    A2 = np.exp(Z2) / np.sum(np.exp(Z2), axis=0)\n",
    "\n",
    "    cost = compute_multiclass_loss(Y, A2)\n",
    "\n",
    "    dZ2 = A2 - Y\n",
    "    dW2 = (1./m) * np.dot(dZ2, A1.T)\n",
    "    db2 = (1./m) * np.sum(dZ2, axis=1, keepdims=True)\n",
    "\n",
    "    dA1 = np.dot(W2.T, dZ2)\n",
    "    dZ1 = dA1 * sigmoid(Z1) * (1 - sigmoid(Z1))\n",
    "    dW1 = (1./m) * np.dot(dZ1, X.T)\n",
    "    db1 = (1./m) * np.sum(dZ1, axis=1, keepdims=True)\n",
    "\n",
    "    W2 = W2 - learning_rate * dW2\n",
    "    b2 = b2 - learning_rate * db2\n",
    "    W1 = W1 - learning_rate * dW1\n",
    "    b1 = b1 - learning_rate * db1\n",
    "\n",
    "    if (i % 100 == 0):\n",
    "        print(\"Epoch\", i, \"cost: \", cost)\n",
    "\n",
    "print(\"Final cost:\", cost)"
   ]
  },
  {
   "cell_type": "markdown",
   "metadata": {},
   "source": [
    "## Accuracy, Confusion Matrix"
   ]
  },
  {
   "cell_type": "code",
   "execution_count": 60,
   "metadata": {},
   "outputs": [
    {
     "name": "stdout",
     "output_type": "stream",
     "text": [
      "[[ 954    0   10    1    1   13    9    2    5    6]\n",
      " [   0 1107    4    1    2    1    3   11    1    6]\n",
      " [   1    5  944   18    8    8    7   27   10    5]\n",
      " [   0    3   14  923    1   37    1    6   28    8]\n",
      " [   1    0   13    0  896    9   13    6   13   36]\n",
      " [  10    2    5   25    3  776   11    1   21   13]\n",
      " [   6    4   11    3   14   17  905    0   12    1]\n",
      " [   1    0   12   12    3    7    2  934   12   21]\n",
      " [   4   14   18   23   11   19    6    8  863   11]\n",
      " [   3    0    1    4   43    5    1   33    9  902]]\n",
      "              precision    recall  f1-score   support\n",
      "\n",
      "           0       0.97      0.95      0.96      1001\n",
      "           1       0.98      0.97      0.97      1136\n",
      "           2       0.91      0.91      0.91      1033\n",
      "           3       0.91      0.90      0.91      1021\n",
      "           4       0.91      0.91      0.91       987\n",
      "           5       0.87      0.90      0.88       867\n",
      "           6       0.94      0.93      0.94       973\n",
      "           7       0.91      0.93      0.92      1004\n",
      "           8       0.89      0.88      0.88       977\n",
      "           9       0.89      0.90      0.90      1001\n",
      "\n",
      "   micro avg       0.92      0.92      0.92     10000\n",
      "   macro avg       0.92      0.92      0.92     10000\n",
      "weighted avg       0.92      0.92      0.92     10000\n",
      "\n"
     ]
    }
   ],
   "source": [
    "Z1 = np.matmul(W1, X_test) + b1\n",
    "A1 = sigmoid(Z1)\n",
    "Z2 = np.dot(W2, A1) + b2\n",
    "A2 = np.exp(Z2) / np.sum(np.exp(Z2), axis=0)\n",
    "\n",
    "predictions = np.argmax(A2, axis=0)\n",
    "labels = np.argmax(Y_test, axis=0)\n",
    "\n",
    "print(confusion_matrix(predictions, labels))\n",
    "print(classification_report(predictions, labels))"
   ]
  },
  {
   "cell_type": "markdown",
   "metadata": {},
   "source": [
    "### Accuracy is 92 percent. In the next upload, I will try to optimize this algorithm"
   ]
  },
  {
   "cell_type": "code",
   "execution_count": null,
   "metadata": {},
   "outputs": [],
   "source": []
  }
 ],
 "metadata": {
  "kernelspec": {
   "display_name": "Python 3",
   "language": "python",
   "name": "python3"
  },
  "language_info": {
   "codemirror_mode": {
    "name": "ipython",
    "version": 3
   },
   "file_extension": ".py",
   "mimetype": "text/x-python",
   "name": "python",
   "nbconvert_exporter": "python",
   "pygments_lexer": "ipython3",
   "version": "3.7.3"
  }
 },
 "nbformat": 4,
 "nbformat_minor": 2
}
